{
 "cells": [
  {
   "cell_type": "markdown",
   "metadata": {},
   "source": [
    "# Kidnapped Vehicle Project\n",
    "\n",
    "\n",
    "## Visualisation"
   ]
  },
  {
   "cell_type": "code",
   "execution_count": 1,
   "metadata": {
    "collapsed": true
   },
   "outputs": [],
   "source": [
    "%matplotlib inline"
   ]
  },
  {
   "cell_type": "code",
   "execution_count": 2,
   "metadata": {
    "collapsed": true
   },
   "outputs": [],
   "source": [
    "import pandas as pd\n",
    "import matplotlib.animation as manimation\n",
    "import matplotlib.pyplot as plt\n",
    "from matplotlib import collections as mc\n",
    "import numpy as np"
   ]
  },
  {
   "cell_type": "code",
   "execution_count": 3,
   "metadata": {
    "collapsed": true
   },
   "outputs": [],
   "source": [
    "def transform_observation(p_x, p_y, p_theta, o_x, o_y):\n",
    "    #(o_y, o_x) = (o_x, o_y)\n",
    "    x = o_x * np.cos(p_theta) - o_y * np.sin(p_theta) + p_x\n",
    "    y = o_x * np.sin(p_theta) + o_y * np.cos(p_theta) + p_y\n",
    "    return (x,y)"
   ]
  },
  {
   "cell_type": "code",
   "execution_count": 4,
   "metadata": {
    "collapsed": false
   },
   "outputs": [
    {
     "data": {
      "image/png": "[encoded data removed]",
      "text/plain": [
       "<matplotlib.figure.Figure at 0x7fb751931b38>"
      ]
     },
     "metadata": {},
     "output_type": "display_data"
    }
   ],
   "source": [
    "def read_landmarks():\n",
    "    return pd.read_table('../data/map_data.txt', sep='\\s+', names=['x', 'y', 'id'])\n",
    "\n",
    "def plot_landmarks(landmarks):\n",
    "    plt.scatter(landmarks['x'], landmarks['y'], marker='o', color='C2', s=1)\n",
    "\n",
    "LANDMARKS = read_landmarks()\n",
    "plot_landmarks(LANDMARKS)"
   ]
  },
  {
   "cell_type": "code",
   "execution_count": 5,
   "metadata": {
    "collapsed": false
   },
   "outputs": [
    {
     "data": {
      "image/png": "[encoded data removed]",
      "text/plain": [
       "<matplotlib.figure.Figure at 0x7fb74e5acbe0>"
      ]
     },
     "metadata": {},
     "output_type": "display_data"
    }
   ],
   "source": [
    "def read_ground_truth():\n",
    "    return pd.read_table('../data/gt_data.txt', sep='\\s+', names=['x', 'y', 'theta'])\n",
    "\n",
    "def plot_quiver(ground_truth, **kwargs):\n",
    "    u = np.cos(ground_truth['theta'])\n",
    "    v = np.sin(ground_truth['theta'])\n",
    "    plt.quiver(ground_truth['x'], ground_truth['y'], u, v, **kwargs)\n",
    "    \n",
    "GROUND_TRUTH = read_ground_truth()\n",
    "plot_quiver(GROUND_TRUTH.iloc[0::13])\n",
    "plot_landmarks(LANDMARKS)"
   ]
  },
  {
   "cell_type": "code",
   "execution_count": 6,
   "metadata": {
    "collapsed": false
   },
   "outputs": [
    {
     "data": {
      "text/html": [
       "<div>\n",
       "<table border=\"1\" class=\"dataframe\">\n",
       "  <thead>\n",
       "    <tr style=\"text-align: right;\">\n",
       "      <th></th>\n",
       "      <th>t</th>\n",
       "      <th>x</th>\n",
       "      <th>y</th>\n",
       "      <th>theta</th>\n",
       "      <th>weight</th>\n",
       "    </tr>\n",
       "  </thead>\n",
       "  <tbody>\n",
       "    <tr>\n",
       "      <th>0</th>\n",
       "      <td>0.0</td>\n",
       "      <td>6.54820</td>\n",
       "      <td>2.12673</td>\n",
       "      <td>-0.006539</td>\n",
       "      <td>0.000047</td>\n",
       "    </tr>\n",
       "    <tr>\n",
       "      <th>1</th>\n",
       "      <td>0.0</td>\n",
       "      <td>6.23796</td>\n",
       "      <td>1.96125</td>\n",
       "      <td>0.008915</td>\n",
       "      <td>0.000600</td>\n",
       "    </tr>\n",
       "    <tr>\n",
       "      <th>2</th>\n",
       "      <td>0.0</td>\n",
       "      <td>6.23796</td>\n",
       "      <td>1.96125</td>\n",
       "      <td>0.008915</td>\n",
       "      <td>0.000600</td>\n",
       "    </tr>\n",
       "    <tr>\n",
       "      <th>3</th>\n",
       "      <td>0.0</td>\n",
       "      <td>6.23796</td>\n",
       "      <td>1.96125</td>\n",
       "      <td>0.008915</td>\n",
       "      <td>0.000600</td>\n",
       "    </tr>\n",
       "    <tr>\n",
       "      <th>4</th>\n",
       "      <td>0.0</td>\n",
       "      <td>6.23796</td>\n",
       "      <td>1.96125</td>\n",
       "      <td>0.008915</td>\n",
       "      <td>0.000600</td>\n",
       "    </tr>\n",
       "  </tbody>\n",
       "</table>\n",
       "</div>"
      ],
      "text/plain": [
       "     t        x        y     theta    weight\n",
       "0  0.0  6.54820  2.12673 -0.006539  0.000047\n",
       "1  0.0  6.23796  1.96125  0.008915  0.000600\n",
       "2  0.0  6.23796  1.96125  0.008915  0.000600\n",
       "3  0.0  6.23796  1.96125  0.008915  0.000600\n",
       "4  0.0  6.23796  1.96125  0.008915  0.000600"
      ]
     },
     "execution_count": 6,
     "metadata": {},
     "output_type": "execute_result"
    }
   ],
   "source": [
    "# The trace just prints x y theta w, one line per update.\n",
    "def read_trace():\n",
    "    time = 0\n",
    "    frames = []\n",
    "    \n",
    "    for step in range(0, 2333):\n",
    "        with open ('../data/particles/particles_'+str(step)+'.txt') as f:\n",
    "            p_df = pd.read_table(f, sep=' ', header=None, names=['x','y','theta', 'weight'], lineterminator='\\n')\n",
    "        times = np.ones(p_df.shape[0]) * time\n",
    "        p_df['t'] = pd.Series(times, index=p_df.index)\n",
    "        p_df = p_df[['t','x','y','theta', 'weight']]\n",
    "        frames.append(p_df)\n",
    "        time += 1\n",
    "    return pd.concat(frames)\n",
    "    \n",
    "TRACE = read_trace()\n",
    "TRACE.head()"
   ]
  },
  {
   "cell_type": "code",
   "execution_count": 7,
   "metadata": {
    "collapsed": false
   },
   "outputs": [
    {
     "data": {
      "text/html": [
       "<div>\n",
       "<table border=\"1\" class=\"dataframe\">\n",
       "  <thead>\n",
       "    <tr style=\"text-align: right;\">\n",
       "      <th></th>\n",
       "      <th>t</th>\n",
       "      <th>x</th>\n",
       "      <th>y</th>\n",
       "    </tr>\n",
       "  </thead>\n",
       "  <tbody>\n",
       "    <tr>\n",
       "      <th>0</th>\n",
       "      <td>0.0</td>\n",
       "      <td>2.4853</td>\n",
       "      <td>5.6048</td>\n",
       "    </tr>\n",
       "    <tr>\n",
       "      <th>1</th>\n",
       "      <td>0.0</td>\n",
       "      <td>11.1420</td>\n",
       "      <td>-6.5591</td>\n",
       "    </tr>\n",
       "    <tr>\n",
       "      <th>2</th>\n",
       "      <td>0.0</td>\n",
       "      <td>-19.9200</td>\n",
       "      <td>-2.0582</td>\n",
       "    </tr>\n",
       "    <tr>\n",
       "      <th>3</th>\n",
       "      <td>0.0</td>\n",
       "      <td>1.9234</td>\n",
       "      <td>-22.9300</td>\n",
       "    </tr>\n",
       "    <tr>\n",
       "      <th>4</th>\n",
       "      <td>0.0</td>\n",
       "      <td>13.8610</td>\n",
       "      <td>-22.1100</td>\n",
       "    </tr>\n",
       "  </tbody>\n",
       "</table>\n",
       "</div>"
      ],
      "text/plain": [
       "     t        x        y\n",
       "0  0.0   2.4853   5.6048\n",
       "1  0.0  11.1420  -6.5591\n",
       "2  0.0 -19.9200  -2.0582\n",
       "3  0.0   1.9234 -22.9300\n",
       "4  0.0  13.8610 -22.1100"
      ]
     },
     "execution_count": 7,
     "metadata": {},
     "output_type": "execute_result"
    }
   ],
   "source": [
    "def read_observations():\n",
    "    time = 0\n",
    "    frames = []\n",
    "    \n",
    "    for step in range(1, 2333):\n",
    "        with open ('../data/observation/observations_%06d.txt' % step) as f:\n",
    "            p_df = pd.read_table(f, sep=' ', header=None, names=['x','y'], lineterminator='\\n')\n",
    "        times = np.ones(p_df.shape[0]) * time\n",
    "        p_df['t'] = pd.Series(times, index=p_df.index)\n",
    "        p_df = p_df[['t','x','y']]\n",
    "        frames.append(p_df)\n",
    "        time += 1\n",
    "    return pd.concat(frames)\n",
    "\n",
    "def plot_observations(ground_truth, observations, **kwargs):\n",
    "    gt_x = ground_truth['x']\n",
    "    gt_y = ground_truth['y']\n",
    "    gt_theta = ground_truth['theta']\n",
    "    obs_x = observations['x']\n",
    "    obs_y = observations['y']\n",
    "    tr_obs_x, tr_obs_y = transform_observation(gt_x, gt_y, gt_theta, obs_x, obs_y)\n",
    "    \n",
    "    gt_x_list = (np.ones_like(tr_obs_x) * gt_x).tolist()\n",
    "    gt_y_list = (np.ones_like(tr_obs_y) * gt_y).tolist()\n",
    "    gt = zip(gt_x_list, gt_y_list)\n",
    "    tr_obs = zip(tr_obs_x.tolist(), tr_obs_y.tolist())\n",
    "    lines = zip(gt, tr_obs)\n",
    "    lc = mc.LineCollection(lines, **kwargs)\n",
    "    plt.gca().add_collection(lc)\n",
    "\n",
    "OBSRV = read_observations()\n",
    "OBSRV.head()"
   ]
  },
  {
   "cell_type": "code",
   "execution_count": null,
   "metadata": {
    "collapsed": true
   },
   "outputs": [],
   "source": []
  },
  {
   "cell_type": "code",
   "execution_count": 8,
   "metadata": {
    "collapsed": false
   },
   "outputs": [
    {
     "data": {
      "text/plain": [
       "<matplotlib.figure.Figure at 0x7fb74e389ba8>"
      ]
     },
     "metadata": {},
     "output_type": "display_data"
    }
   ],
   "source": [
    "def plot_trace(trace, observations, size=720, arrow_scale=100, step=1):\n",
    "    FFMPEGWriter = manimation.writers['ffmpeg']\n",
    "    writer = FFMPEGWriter(fps=10)\n",
    "\n",
    "    fig = plt.figure()\n",
    "    pad = 50\n",
    "    plt.xlim(np.min(GROUND_TRUTH['x']) - pad, np.max(GROUND_TRUTH['x']) + pad)\n",
    "    plt.ylim(np.min(GROUND_TRUTH['y']) - pad, np.max(GROUND_TRUTH['y']) + pad)\n",
    "    \n",
    "    end_time = int(np.max(trace['t']))\n",
    "    with writer.saving(fig, \"../data/trace.mp4\", size):\n",
    "        for time in range(0, end_time, step):\n",
    "            trace_time = trace.loc[trace['t'] == time]\n",
    "            obs_time = observations.loc[observations['t'] == time]\n",
    "            gt = GROUND_TRUTH.loc[time]\n",
    "            \n",
    "            # Plot big picture\n",
    "            plt.xlim(-60,310)\n",
    "            plt.ylim(-110,35)\n",
    "            plot_landmarks(LANDMARKS)\n",
    "            plot_observations(gt, obs_time, linewidths=0.05, colors='k', linestyle='dotted')\n",
    "            plot_quiver(trace_time, width=0.002, scale=arrow_scale / 2, color='r')\n",
    "            plot_quiver(gt,         width=0.002, scale=arrow_scale / 2)\n",
    "            \n",
    "            # Plot small picture\n",
    "            plt.axes([.55, .25, .3, .2])\n",
    "            plt.xlim(gt['x'] - pad / 2, gt['x'] + pad / 2)\n",
    "            plt.ylim(gt['y'] - pad / 2, gt['y'] + pad / 2)\n",
    "            plot_landmarks(LANDMARKS)\n",
    "            plot_observations(gt, obs_time, linewidths=0.1, colors='k', linestyle='dotted')            \n",
    "            plot_quiver(trace_time, width=0.01, scale=arrow_scale / 10, color='r')\n",
    "            plot_quiver(gt,         width=0.01, scale=arrow_scale / 10)\n",
    "\n",
    "            writer.grab_frame()\n",
    "            plt.clf()\n",
    "            \n",
    "plot_trace(TRACE, OBSRV)"
   ]
  },
  {
   "cell_type": "code",
   "execution_count": null,
   "metadata": {
    "collapsed": true
   },
   "outputs": [],
   "source": []
  }
 ],
 "metadata": {
  "anaconda-cloud": {},
  "kernelspec": {
   "display_name": "Python 3",
   "language": "python",
   "name": "python3"
  },
  "language_info": {
   "codemirror_mode": {
    "name": "ipython",
    "version": 3
   },
   "file_extension": ".py",
   "mimetype": "text/x-python",
   "name": "python",
   "nbconvert_exporter": "python",
   "pygments_lexer": "ipython3",
   "version": "3.6.0"
  }
 },
 "nbformat": 4,
 "nbformat_minor": 1
}
